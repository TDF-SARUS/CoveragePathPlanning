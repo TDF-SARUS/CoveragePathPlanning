{
 "cells": [
  {
   "cell_type": "markdown",
   "metadata": {},
   "source": [
    "# Running DARP on Actual Maps"
   ]
  },
  {
   "cell_type": "markdown",
   "metadata": {},
   "source": [
    "**Known Issues**\n",
    "- Reprojection function for projecting the coverage path onto the map isn't proper, this is apparent for larger areas.\n",
    "- Somehing goes wrong sometimes withrespect to area division, it may be related to when the area of coverage of the drone is large."
   ]
  },
  {
   "cell_type": "code",
   "execution_count": 1,
   "metadata": {
    "ExecuteTime": {
     "end_time": "2020-08-14T18:55:56.598731Z",
     "start_time": "2020-08-14T18:55:52.261089Z"
    }
   },
   "outputs": [],
   "source": [
    "import json\n",
    "import numpy as np\n",
    "import matplotlib.pyplot as plt\n",
    "\n",
    "from pathlib import Path\n",
    "from zipfile import ZipFile\n",
    "\n",
    "import shapely\n",
    "import shapely.geometry\n",
    "import geopandas as gpd\n",
    "import contextily as cx\n",
    "from geopy import distance\n",
    "from skimage import measure\n",
    "from skimage.draw import polygon\n",
    "\n",
    "from cpp_algorithms import conversion\n",
    "from cpp_algorithms import adjacency_test\n",
    "from cpp_algorithms.conversion.conversion import conversion\n",
    "from cpp_algorithms import plot, imshow, cpp, imshow_scatter\n",
    "from cpp_algorithms.conversion.conversion_helpers import  get_gpdframe"
   ]
  },
  {
   "cell_type": "markdown",
   "metadata": {},
   "source": [
    "# Helper Functions"
   ]
  },
  {
   "cell_type": "code",
   "execution_count": 2,
   "metadata": {
    "ExecuteTime": {
     "end_time": "2020-08-14T19:47:44.658122Z",
     "start_time": "2020-08-14T19:47:44.592916Z"
    }
   },
   "outputs": [],
   "source": [
    "EPSG=4326\n",
    "FEATURES = [\"coverage\", \"obstacle\", \"fuel\", \"drone\"]\n",
    "colors = [\"#e91e63\",\"#3f51b5\",\"#00838f\",\"#ff8f00\",\"#4caf50\"]\n",
    "\n",
    "def get_features_dict(shape_files, key='type', fnames=FEATURES):\n",
    "    \"\"\"\n",
    "    Name of the features should be shapefile \n",
    "    `key` column values\n",
    "    \"\"\"\n",
    "    features = {}\n",
    "    for name in fnames:\n",
    "        features[name] = []\n",
    "        \n",
    "    for sh in shape_files:\n",
    "        for rows in sh.iterrows():\n",
    "            for k in features:\n",
    "                if rows[1][key].find(k) >= 0:\n",
    "                    features[k].append(rows[1].geometry)\n",
    "    return features\n",
    "\n",
    "def get_final_coverage_polygon(features):\n",
    "    \"\"\"\n",
    "    Union of coverage and difference of\n",
    "    obstacles.\n",
    "    \"\"\"\n",
    "    final = features['coverage'][0]\n",
    "    for cov in features['coverage']:\n",
    "        final = final.union(cov)\n",
    "    for obs in features['obstacle']:\n",
    "        final = final.difference(obs)\n",
    "    return final\n",
    "\n",
    "\n",
    "def create_gdframe(features, crs=f\"EPSG:{EPSG}\", no_points=False):\n",
    "    \"\"\"\n",
    "    Create GeoDataFrame from features\n",
    "    \"\"\"\n",
    "    final_coverage = get_final_coverage_polygon(features)\n",
    "    points = []\n",
    "    if not no_points:\n",
    "        for d in features['drone']:\n",
    "            points.append({\n",
    "                'type':'drone',\n",
    "                'geometry':d\n",
    "            })\n",
    "        for f in features['fuel']:\n",
    "            points.append({\n",
    "                'type':'fuel',\n",
    "                'geometry':d\n",
    "            })\n",
    "    points.append({\n",
    "        'type':'coverage',\n",
    "        'geometry':final_coverage})\n",
    "    return gpd.GeoDataFrame(points, crs=crs)\n",
    "\n",
    "def get_hv_wh(final_coverage):\n",
    "    \"\"\"\n",
    "    Get haversine calcualted width and height of\n",
    "    the smallest bounding rectangle of the coverage area.\n",
    "    \"\"\"\n",
    "    llng, llat, rlng, rlat =  final_coverage.bounds\n",
    "    ll = (llat,llng)\n",
    "    lr = (llat,rlng)\n",
    "    tr = (rlat,rlng)\n",
    "    tl = (rlat,llng)\n",
    "    w = distance.distance(ll,lr)\n",
    "    h = distance.distance(ll,tl)\n",
    "    return w, h\n",
    "\n",
    "\n",
    "def read_shapefile(path, to_del=False):\n",
    "    \"\"\"\n",
    "    Path of the zip file containing the .shp\n",
    "    \"\"\"\n",
    "    path = Path(path)\n",
    "    ZipFile(path).extractall(path.parent)\n",
    "    shp_all = []\n",
    "    for shfile in (path.parent/\"layers\").iterdir():\n",
    "        if shfile.suffix == \".shp\":\n",
    "            shp_all.append(gpd.read_file(shfile))\n",
    "    if to_del:\n",
    "        (path.parent/\"layers\").unlink()\n",
    "    return shp_all\n",
    "\n",
    "\"\"\"\n",
    "Convert to raster\n",
    "\"\"\"\n",
    "def get_scale(final_coverage_polygon, meter=1):\n",
    "    \"\"\"\n",
    "    Returns the supposed longside of the area.\n",
    "    \"\"\"\n",
    "    w,h = get_hv_wh(final_coverage_polygon)\n",
    "    w = w.m\n",
    "    h = h.m\n",
    "    return int(np.round((np.array([w,h])/meter).max()))\n",
    "\n",
    "def get_raster(gpdf_final, scale=2000,CRS = f\"EPSG:4326\"):\n",
    "    \"\"\"\n",
    "    Returns rasterised version for the projection\n",
    "    \"\"\"\n",
    "    assert len(gpdf_final) == 1\n",
    "    try:\n",
    "        shp = gpdf_final.to_crs(crs=CRS)\n",
    "    except:\n",
    "        shp = gpdf_final.set_crs(crs=\"EPSG:4326\")\n",
    "    \n",
    "    ext = np.array(shp.geometry[0].exterior).copy()\n",
    "    ite = map(np.array,shp.geometry[0].interiors)\n",
    "    \n",
    "    mn = ext.min(axis=0)\n",
    "    mix = ext - mn\n",
    "    mx = mix.max()\n",
    "    mix *= scale/mx\n",
    "    mix = np.int64(mix)\n",
    "    sh = mix.max(axis=0)\n",
    "    \n",
    "    r,c = polygon(*mix.T,sh)\n",
    "    p = np.full(mix.max(axis=0),-1)\n",
    "    p[r,c] = 0 \n",
    "    \n",
    "    for o in ite:\n",
    "        r,c = polygon(*np.int16((o-mn)*scale/mx).T,sh)\n",
    "        p[r,c] = -1\n",
    "        \n",
    "    return p, mn, mx, sh\n",
    "\n",
    "def down_sample(side, area_map, points, meter=1):\n",
    "    \"\"\"\n",
    "    Down samples the projection so each pixel \n",
    "    represents a drone's coverage area.\n",
    "    \"\"\"\n",
    "    st = int(side/meter)\n",
    "    area_map = area_map.copy()\n",
    "    area_map[area_map == -1] = 1\n",
    "    vals = []\n",
    "    for i,point in enumerate(points):\n",
    "        point=np.array(point)\n",
    "        x,y = point.T\n",
    "        area_map[x,y] = i+2\n",
    "        vals.append(i+2)\n",
    "    \n",
    "    temp = measure.block_reduce(area_map, (st,st), np.max,cval=0)\n",
    "    temp[temp==1] = -1\n",
    "    points = []\n",
    "    for val in vals:\n",
    "        points_ = np.stack(np.where(temp==val)).T\n",
    "        points.append(list(map(tuple,points_)))\n",
    "        temp[temp == val] = 0\n",
    "    return temp, points\n",
    "    \n",
    "def coords_to_points(cps):\n",
    "    \"\"\"\n",
    "    Converts the (x,y) to lat and long values in a GeoDataFrame\n",
    "    \"\"\"\n",
    "    ls = []\n",
    "    for cp in cps:\n",
    "        geometry = shapely.geometry.LineString(cp.reshape(-1,2))\n",
    "        ls.append(gpd.GeoDataFrame([{\"type\":\"drone\", \"geometry\":geometry}],crs=f\"EPSG:4326\"))\n",
    "    return ls\n",
    "\n",
    "def coo_to_points(gpdf_points, mn, mx, key=\"type\", scale=2000):\n",
    "    \"\"\"\n",
    "    Does the opposite of the above function.\n",
    "    \"\"\"\n",
    "    types = []\n",
    "    points = []\n",
    "    for p in gpdf_points.iterrows():\n",
    "        if p[1][key] not in types:\n",
    "            types.append(p[1][key])\n",
    "            points.append([])\n",
    "            \n",
    "        i = types.index(p[1][key]) \n",
    "        coords = np.array(p[1].geometry.coords)\n",
    "        points[i].append(tuple(np.int64((coords - mn)*scale/mx)[0]))\n",
    "    return points, types\n",
    "\n",
    "def plot_and_display(path,side=100,meter=4,online=True, figsize=(15,15)):\n",
    "    \"\"\"\n",
    "    Calls all the above functions for the given parameters.\n",
    "    \"\"\"\n",
    "    shf = read_shapefile(path)\n",
    "    features = get_features_dict(shf)\n",
    "    gpdf_final = create_gdframe(features, no_points=True)\n",
    "    final_coverage_polygon = gpdf_final.geometry[0]\n",
    "    gpdf_points = shf[1]\n",
    "    gpdf_points = gpdf_points.set_crs(epsg=EPSG)\n",
    "    scale = get_scale(final_coverage_polygon, meter=meter)\n",
    "    area_map_,mn,mx,sh = get_raster(gpdf_final, scale)\n",
    "    points_, types = coo_to_points(gpdf_points, mn, mx, scale=scale)\n",
    "    st = side/meter\n",
    "    area_map, points = down_sample(side, area_map_, points_, meter=meter)\n",
    "\n",
    "    coverage_path_ = cpp(area_map, [*points[0],*points[1]], pbar=True, online=online)\n",
    "    coverage_path = list(map(lambda cp:((np.array(cp)*side)*mx/(scale*meter))+mn[None,None,:], coverage_path_[0]))\n",
    "    imshow(area_map,figsize=figsize, cmap=\"Blues_r\")\n",
    "    [plot(cp,color=colors[i]) for i,cp in enumerate(coverage_path_[0])];\n",
    "\n",
    "    paths = coords_to_points(coverage_path)\n",
    "    epsg = 3857; conv_crs = f\"EPSG:{epsg}\"\n",
    "    bounds = list(gpdf_final.to_crs(epsg=3857).bounds.iloc[0])\n",
    "    ax = gpdf_final.to_crs(epsg=epsg).plot(figsize=figsize, alpha=0.6, edgecolor='black', color=\"lightgrey\")\n",
    "    [pth.to_crs(epsg=epsg).plot(ax=ax, edgecolor=colors[i],alpha=1) for i,pth in enumerate(paths)];\n",
    "    cx.add_basemap(ax=ax, crs=conv_crs)\n",
    "    ax.set_axis_off()"
   ]
  },
  {
   "cell_type": "markdown",
   "metadata": {},
   "source": [
    "# Running Boustrophedon"
   ]
  },
  {
   "cell_type": "code",
   "execution_count": 3,
   "metadata": {
    "ExecuteTime": {
     "end_time": "2020-08-14T19:20:15.548321Z",
     "start_time": "2020-08-14T19:19:31.576166Z"
    }
   },
   "outputs": [
    {
     "data": {
      "application/vnd.jupyter.widget-view+json": {
       "model_id": "7d7962e02d334298b4d380572594c4db"
      }
     },
     "metadata": {},
     "output_type": "display_data"
    },
    {
     "ename": "AttributeError",
     "evalue": "'FloatProgress' object has no attribute 'style'",
     "output_type": "error",
     "traceback": [
      "\u001b[0;31m---------------------------------------------------------------------------\u001b[0m",
      "\u001b[0;31mAttributeError\u001b[0m                            Traceback (most recent call last)",
      "\u001b[0;32m<ipython-input-3-bf641a49ee21>\u001b[0m in \u001b[0;36m<module>\u001b[0;34m()\u001b[0m\n\u001b[0;32m----> 1\u001b[0;31m \u001b[0mplot_and_display\u001b[0m\u001b[0;34m(\u001b[0m\u001b[0;34m\"./test_shps/kamathipura.zip\"\u001b[0m\u001b[0;34m)\u001b[0m\u001b[0;34m\u001b[0m\u001b[0;34m\u001b[0m\u001b[0m\n\u001b[0m",
      "\u001b[0;32m<ipython-input-2-248b2118eed2>\u001b[0m in \u001b[0;36mplot_and_display\u001b[0;34m(path, side, meter, online, figsize)\u001b[0m\n\u001b[1;32m    191\u001b[0m     \u001b[0marea_map\u001b[0m\u001b[0;34m,\u001b[0m \u001b[0mpoints\u001b[0m \u001b[0;34m=\u001b[0m \u001b[0mdown_sample\u001b[0m\u001b[0;34m(\u001b[0m\u001b[0mside\u001b[0m\u001b[0;34m,\u001b[0m \u001b[0marea_map_\u001b[0m\u001b[0;34m,\u001b[0m \u001b[0mpoints_\u001b[0m\u001b[0;34m,\u001b[0m \u001b[0mmeter\u001b[0m\u001b[0;34m=\u001b[0m\u001b[0mmeter\u001b[0m\u001b[0;34m)\u001b[0m\u001b[0;34m\u001b[0m\u001b[0;34m\u001b[0m\u001b[0m\n\u001b[1;32m    192\u001b[0m \u001b[0;34m\u001b[0m\u001b[0m\n\u001b[0;32m--> 193\u001b[0;31m     \u001b[0mcoverage_path_\u001b[0m \u001b[0;34m=\u001b[0m \u001b[0mcpp\u001b[0m\u001b[0;34m(\u001b[0m\u001b[0marea_map\u001b[0m\u001b[0;34m,\u001b[0m \u001b[0;34m[\u001b[0m\u001b[0;34m*\u001b[0m\u001b[0mpoints\u001b[0m\u001b[0;34m[\u001b[0m\u001b[0;36m0\u001b[0m\u001b[0;34m]\u001b[0m\u001b[0;34m,\u001b[0m\u001b[0;34m*\u001b[0m\u001b[0mpoints\u001b[0m\u001b[0;34m[\u001b[0m\u001b[0;36m1\u001b[0m\u001b[0;34m]\u001b[0m\u001b[0;34m]\u001b[0m\u001b[0;34m,\u001b[0m \u001b[0mpbar\u001b[0m\u001b[0;34m=\u001b[0m\u001b[0;32mTrue\u001b[0m\u001b[0;34m,\u001b[0m \u001b[0monline\u001b[0m\u001b[0;34m=\u001b[0m\u001b[0monline\u001b[0m\u001b[0;34m)\u001b[0m\u001b[0;34m\u001b[0m\u001b[0;34m\u001b[0m\u001b[0m\n\u001b[0m\u001b[1;32m    194\u001b[0m     \u001b[0mcoverage_path\u001b[0m \u001b[0;34m=\u001b[0m \u001b[0mlist\u001b[0m\u001b[0;34m(\u001b[0m\u001b[0mmap\u001b[0m\u001b[0;34m(\u001b[0m\u001b[0;32mlambda\u001b[0m \u001b[0mcp\u001b[0m\u001b[0;34m:\u001b[0m\u001b[0;34m(\u001b[0m\u001b[0;34m(\u001b[0m\u001b[0mnp\u001b[0m\u001b[0;34m.\u001b[0m\u001b[0marray\u001b[0m\u001b[0;34m(\u001b[0m\u001b[0mcp\u001b[0m\u001b[0;34m)\u001b[0m\u001b[0;34m*\u001b[0m\u001b[0mside\u001b[0m\u001b[0;34m)\u001b[0m\u001b[0;34m*\u001b[0m\u001b[0mmx\u001b[0m\u001b[0;34m/\u001b[0m\u001b[0;34m(\u001b[0m\u001b[0mscale\u001b[0m\u001b[0;34m*\u001b[0m\u001b[0mmeter\u001b[0m\u001b[0;34m)\u001b[0m\u001b[0;34m)\u001b[0m\u001b[0;34m+\u001b[0m\u001b[0mmn\u001b[0m\u001b[0;34m[\u001b[0m\u001b[0;32mNone\u001b[0m\u001b[0;34m,\u001b[0m\u001b[0;32mNone\u001b[0m\u001b[0;34m,\u001b[0m\u001b[0;34m:\u001b[0m\u001b[0;34m]\u001b[0m\u001b[0;34m,\u001b[0m \u001b[0mcoverage_path_\u001b[0m\u001b[0;34m[\u001b[0m\u001b[0;36m0\u001b[0m\u001b[0;34m]\u001b[0m\u001b[0;34m)\u001b[0m\u001b[0;34m)\u001b[0m\u001b[0;34m\u001b[0m\u001b[0;34m\u001b[0m\u001b[0m\n\u001b[1;32m    195\u001b[0m     \u001b[0mimshow\u001b[0m\u001b[0;34m(\u001b[0m\u001b[0marea_map\u001b[0m\u001b[0;34m,\u001b[0m\u001b[0mfigsize\u001b[0m\u001b[0;34m=\u001b[0m\u001b[0mfigsize\u001b[0m\u001b[0;34m,\u001b[0m \u001b[0mcmap\u001b[0m\u001b[0;34m=\u001b[0m\u001b[0;34m\"Blues_r\"\u001b[0m\u001b[0;34m)\u001b[0m\u001b[0;34m\u001b[0m\u001b[0;34m\u001b[0m\u001b[0m\n",
      "\u001b[0;32m/home/jdcdp/git/CoveragePathPlanning/cpp_algorithms/cpp.py\u001b[0m in \u001b[0;36mcpp\u001b[0;34m(area_map, start_points, fuel_points, fuel_capacity, online, epochs, use_flood, drone_speed, drone_coverage, pbar)\u001b[0m\n\u001b[1;32m     28\u001b[0m     \u001b[0;32mif\u001b[0m \u001b[0mn\u001b[0m \u001b[0;34m>\u001b[0m \u001b[0;36m1\u001b[0m\u001b[0;34m:\u001b[0m\u001b[0;34m\u001b[0m\u001b[0;34m\u001b[0m\u001b[0m\n\u001b[1;32m     29\u001b[0m         A, _ = darp(epochs, area_map, start_points, use_flood=use_flood,\n\u001b[0;32m---> 30\u001b[0;31m                     pbar=pbar, drone_speed=drone_speed, drone_coverage=drone_coverage)\n\u001b[0m\u001b[1;32m     31\u001b[0m         \u001b[0mdrone_maps\u001b[0m \u001b[0;34m=\u001b[0m \u001b[0;34m[\u001b[0m\u001b[0mget_drone_map\u001b[0m\u001b[0;34m(\u001b[0m\u001b[0mA\u001b[0m\u001b[0;34m,\u001b[0m \u001b[0mi\u001b[0m\u001b[0;34m)\u001b[0m \u001b[0;32mfor\u001b[0m \u001b[0mi\u001b[0m \u001b[0;32min\u001b[0m \u001b[0mrange\u001b[0m\u001b[0;34m(\u001b[0m\u001b[0mn\u001b[0m\u001b[0;34m)\u001b[0m\u001b[0;34m]\u001b[0m\u001b[0;34m\u001b[0m\u001b[0;34m\u001b[0m\u001b[0m\n\u001b[1;32m     32\u001b[0m     \u001b[0;32melse\u001b[0m\u001b[0;34m:\u001b[0m\u001b[0;34m\u001b[0m\u001b[0;34m\u001b[0m\u001b[0m\n",
      "\u001b[0;32m/home/jdcdp/git/CoveragePathPlanning/cpp_algorithms/darp/darp.py\u001b[0m in \u001b[0;36mdarp\u001b[0;34m(epochs, area_map, start_points, drone_speed, drone_coverage, use_flood, pbar, obstacle)\u001b[0m\n\u001b[1;32m     32\u001b[0m     \u001b[0;31m# Flood matrix\u001b[0m\u001b[0;34m\u001b[0m\u001b[0;34m\u001b[0m\u001b[0;34m\u001b[0m\u001b[0m\n\u001b[1;32m     33\u001b[0m     \u001b[0;32mif\u001b[0m \u001b[0muse_flood\u001b[0m\u001b[0;34m:\u001b[0m\u001b[0;34m\u001b[0m\u001b[0;34m\u001b[0m\u001b[0m\n\u001b[0;32m---> 34\u001b[0;31m         \u001b[0mflood_matrix\u001b[0m \u001b[0;34m=\u001b[0m \u001b[0mget_flood_matrix\u001b[0m\u001b[0;34m(\u001b[0m\u001b[0marea_map\u001b[0m\u001b[0;34m,\u001b[0m \u001b[0mpbar\u001b[0m\u001b[0;34m=\u001b[0m\u001b[0mpbar\u001b[0m\u001b[0;34m)\u001b[0m\u001b[0;34m\u001b[0m\u001b[0;34m\u001b[0m\u001b[0m\n\u001b[0m\u001b[1;32m     35\u001b[0m \u001b[0;34m\u001b[0m\u001b[0m\n\u001b[1;32m     36\u001b[0m     \u001b[0;32mif\u001b[0m \u001b[0mdrone_coverage\u001b[0m \u001b[0;32mis\u001b[0m \u001b[0;32mNone\u001b[0m \u001b[0;32mor\u001b[0m \u001b[0mdrone_speed\u001b[0m \u001b[0;32mis\u001b[0m \u001b[0;32mNone\u001b[0m\u001b[0;34m:\u001b[0m\u001b[0;34m\u001b[0m\u001b[0;34m\u001b[0m\u001b[0m\n",
      "\u001b[0;32m/home/jdcdp/git/CoveragePathPlanning/cpp_algorithms/darp/continuity.py\u001b[0m in \u001b[0;36mget_flood_matrix\u001b[0;34m(area_map, pbar, obstacle)\u001b[0m\n\u001b[1;32m     36\u001b[0m     \u001b[0mpoints\u001b[0m \u001b[0;34m=\u001b[0m \u001b[0mget_area_indices\u001b[0m\u001b[0;34m(\u001b[0m\u001b[0marea_map\u001b[0m\u001b[0;34m,\u001b[0m \u001b[0mobstacle\u001b[0m\u001b[0;34m,\u001b[0m \u001b[0;32mTrue\u001b[0m\u001b[0;34m)\u001b[0m\u001b[0;34m\u001b[0m\u001b[0;34m\u001b[0m\u001b[0m\n\u001b[1;32m     37\u001b[0m     \u001b[0mflood_matrix\u001b[0m \u001b[0;34m=\u001b[0m \u001b[0;34m[\u001b[0m\u001b[0;34m]\u001b[0m\u001b[0;34m\u001b[0m\u001b[0;34m\u001b[0m\u001b[0m\n\u001b[0;32m---> 38\u001b[0;31m     \u001b[0;32mfor\u001b[0m \u001b[0mpoint\u001b[0m \u001b[0;32min\u001b[0m \u001b[0mtqdm\u001b[0m\u001b[0;34m(\u001b[0m\u001b[0mpoints\u001b[0m\u001b[0;34m,\u001b[0m\u001b[0mdisable\u001b[0m\u001b[0;34m=\u001b[0m\u001b[0;32mnot\u001b[0m \u001b[0mpbar\u001b[0m\u001b[0;34m)\u001b[0m\u001b[0;34m:\u001b[0m\u001b[0;34m\u001b[0m\u001b[0;34m\u001b[0m\u001b[0m\n\u001b[0m\u001b[1;32m     39\u001b[0m          \u001b[0mflood_matrix\u001b[0m\u001b[0;34m.\u001b[0m\u001b[0mappend\u001b[0m\u001b[0;34m(\u001b[0m\u001b[0mdist_fill\u001b[0m\u001b[0;34m(\u001b[0m\u001b[0marea_map\u001b[0m\u001b[0;34m,\u001b[0m \u001b[0;34m[\u001b[0m\u001b[0mtuple\u001b[0m\u001b[0;34m(\u001b[0m\u001b[0mpoint\u001b[0m\u001b[0;34m)\u001b[0m\u001b[0;34m]\u001b[0m\u001b[0;34m)\u001b[0m\u001b[0;34m)\u001b[0m\u001b[0;34m\u001b[0m\u001b[0;34m\u001b[0m\u001b[0m\n\u001b[1;32m     40\u001b[0m     \u001b[0;32mreturn\u001b[0m  \u001b[0mnp\u001b[0m\u001b[0;34m.\u001b[0m\u001b[0marray\u001b[0m\u001b[0;34m(\u001b[0m\u001b[0mflood_matrix\u001b[0m\u001b[0;34m)\u001b[0m\u001b[0;34m\u001b[0m\u001b[0;34m\u001b[0m\u001b[0m\n",
      "\u001b[0;32m/usr/local/lib/python3.7/dist-packages/tqdm/notebook.py\u001b[0m in \u001b[0;36m__init__\u001b[0;34m(self, *args, **kwargs)\u001b[0m\n\u001b[1;32m    238\u001b[0m             \u001b[0mdisplay\u001b[0m\u001b[0;34m(\u001b[0m\u001b[0mself\u001b[0m\u001b[0;34m.\u001b[0m\u001b[0mcontainer\u001b[0m\u001b[0;34m)\u001b[0m\u001b[0;34m\u001b[0m\u001b[0;34m\u001b[0m\u001b[0m\n\u001b[1;32m    239\u001b[0m         \u001b[0mself\u001b[0m\u001b[0;34m.\u001b[0m\u001b[0mdisp\u001b[0m \u001b[0;34m=\u001b[0m \u001b[0mself\u001b[0m\u001b[0;34m.\u001b[0m\u001b[0mdisplay\u001b[0m\u001b[0;34m\u001b[0m\u001b[0;34m\u001b[0m\u001b[0m\n\u001b[0;32m--> 240\u001b[0;31m         \u001b[0mself\u001b[0m\u001b[0;34m.\u001b[0m\u001b[0mcolour\u001b[0m \u001b[0;34m=\u001b[0m \u001b[0mcolour\u001b[0m\u001b[0;34m\u001b[0m\u001b[0;34m\u001b[0m\u001b[0m\n\u001b[0m\u001b[1;32m    241\u001b[0m \u001b[0;34m\u001b[0m\u001b[0m\n\u001b[1;32m    242\u001b[0m         \u001b[0;31m# Print initial bar state\u001b[0m\u001b[0;34m\u001b[0m\u001b[0;34m\u001b[0m\u001b[0;34m\u001b[0m\u001b[0m\n",
      "\u001b[0;32m/usr/local/lib/python3.7/dist-packages/tqdm/notebook.py\u001b[0m in \u001b[0;36mcolour\u001b[0;34m(self, bar_color)\u001b[0m\n\u001b[1;32m    199\u001b[0m     \u001b[0;32mdef\u001b[0m \u001b[0mcolour\u001b[0m\u001b[0;34m(\u001b[0m\u001b[0mself\u001b[0m\u001b[0;34m,\u001b[0m \u001b[0mbar_color\u001b[0m\u001b[0;34m)\u001b[0m\u001b[0;34m:\u001b[0m\u001b[0;34m\u001b[0m\u001b[0;34m\u001b[0m\u001b[0m\n\u001b[1;32m    200\u001b[0m         \u001b[0;32mif\u001b[0m \u001b[0mhasattr\u001b[0m\u001b[0;34m(\u001b[0m\u001b[0mself\u001b[0m\u001b[0;34m,\u001b[0m \u001b[0;34m'container'\u001b[0m\u001b[0;34m)\u001b[0m\u001b[0;34m:\u001b[0m\u001b[0;34m\u001b[0m\u001b[0;34m\u001b[0m\u001b[0m\n\u001b[0;32m--> 201\u001b[0;31m             \u001b[0mself\u001b[0m\u001b[0;34m.\u001b[0m\u001b[0mcontainer\u001b[0m\u001b[0;34m.\u001b[0m\u001b[0mchildren\u001b[0m\u001b[0;34m[\u001b[0m\u001b[0;34m-\u001b[0m\u001b[0;36m2\u001b[0m\u001b[0;34m]\u001b[0m\u001b[0;34m.\u001b[0m\u001b[0mstyle\u001b[0m\u001b[0;34m.\u001b[0m\u001b[0mbar_color\u001b[0m \u001b[0;34m=\u001b[0m \u001b[0mbar_color\u001b[0m\u001b[0;34m\u001b[0m\u001b[0;34m\u001b[0m\u001b[0m\n\u001b[0m\u001b[1;32m    202\u001b[0m \u001b[0;34m\u001b[0m\u001b[0m\n\u001b[1;32m    203\u001b[0m     \u001b[0;32mdef\u001b[0m \u001b[0m__init__\u001b[0m\u001b[0;34m(\u001b[0m\u001b[0mself\u001b[0m\u001b[0;34m,\u001b[0m \u001b[0;34m*\u001b[0m\u001b[0margs\u001b[0m\u001b[0;34m,\u001b[0m \u001b[0;34m**\u001b[0m\u001b[0mkwargs\u001b[0m\u001b[0;34m)\u001b[0m\u001b[0;34m:\u001b[0m\u001b[0;34m\u001b[0m\u001b[0;34m\u001b[0m\u001b[0m\n",
      "\u001b[0;31mAttributeError\u001b[0m: 'FloatProgress' object has no attribute 'style'"
     ]
    }
   ],
   "source": [
    "plot_and_display(\"./test_shps/kamathipura.zip\")"
   ]
  },
  {
   "cell_type": "markdown",
   "metadata": {},
   "source": [
    "# Running Wavefront"
   ]
  },
  {
   "cell_type": "code",
   "execution_count": null,
   "metadata": {
    "ExecuteTime": {
     "end_time": "2020-08-14T19:22:47.504797Z",
     "start_time": "2020-08-14T19:22:21.860814Z"
    }
   },
   "outputs": [],
   "source": [
    "plot_and_display(\"./test_shps/juhu.zip\", online=\"wavefront\", side=50)"
   ]
  },
  {
   "cell_type": "markdown",
   "metadata": {},
   "source": [
    "# Running STC"
   ]
  },
  {
   "cell_type": "code",
   "execution_count": null,
   "metadata": {
    "ExecuteTime": {
     "end_time": "2020-08-14T20:32:58.098082Z",
     "start_time": "2020-08-14T20:32:14.341593Z"
    }
   },
   "outputs": [],
   "source": [
    "plot_and_display(\"./test_shps/kamathipura.zip\",online=False)"
   ]
  },
  {
   "cell_type": "code",
   "execution_count": null,
   "metadata": {
    "ExecuteTime": {
     "end_time": "2020-08-14T19:26:08.380494Z",
     "start_time": "2020-08-14T19:25:32.553796Z"
    }
   },
   "outputs": [],
   "source": [
    "plot_and_display(\"./test_shps/paris.zip\", online=False, side=20)"
   ]
  },
  {
   "cell_type": "code",
   "execution_count": null,
   "metadata": {
    "ExecuteTime": {
     "end_time": "2020-08-14T19:38:32.576449Z",
     "start_time": "2020-08-14T19:34:30.616517Z"
    }
   },
   "outputs": [],
   "source": [
    "plot_and_display(\"./test_shps/paris.zip\", online=False, side=15)"
   ]
  },
  {
   "cell_type": "code",
   "execution_count": null,
   "metadata": {
    "ExecuteTime": {
     "end_time": "2020-08-14T19:48:15.268897Z",
     "start_time": "2020-08-14T19:47:59.668469Z"
    },
    "scrolled": false
   },
   "outputs": [],
   "source": [
    "plot_and_display(\"./test_shps/mumb.zip\", online=False, side=30, figsize=(10,10))"
   ]
  },
  {
   "cell_type": "code",
   "execution_count": null,
   "metadata": {},
   "outputs": [],
   "source": []
  }
 ],
 "metadata": {
  "kernelspec": {
   "display_name": "Python 3",
   "language": "python",
   "name": "python3"
  },
  "language_info": {
   "codemirror_mode": {
    "name": "ipython",
    "version": 3
   },
   "file_extension": ".py",
   "mimetype": "text/x-python",
   "name": "python",
   "nbconvert_exporter": "python",
   "pygments_lexer": "ipython3",
   "version": "3.7.3"
  }
 },
 "nbformat": 4,
 "nbformat_minor": 4
}
